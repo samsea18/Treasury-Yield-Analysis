{
 "cells": [
  {
   "cell_type": "code",
   "execution_count": 1,
   "metadata": {},
   "outputs": [],
   "source": [
    "from bs4 import BeautifulSoup\n",
    "import requests\n",
    "import re"
   ]
  },
  {
   "cell_type": "code",
   "execution_count": 2,
   "metadata": {},
   "outputs": [],
   "source": [
    "page = requests.get(\"https://www.treasury.gov/resource-center/data-chart-center/interest-rates/Pages/TextView.aspx?data=yieldYear&year=2021\")\n",
    "soup = BeautifulSoup(page.content, 'html.parser')"
   ]
  },
  {
   "cell_type": "code",
   "execution_count": 3,
   "metadata": {},
   "outputs": [],
   "source": [
    "t1 = soup.find(class_=\"t-chart\")"
   ]
  },
  {
   "cell_type": "code",
   "execution_count": 4,
   "metadata": {},
   "outputs": [],
   "source": [
    "t2 = t1.find_all(class_=\"oddrow\")"
   ]
  },
  {
   "cell_type": "code",
   "execution_count": 5,
   "metadata": {},
   "outputs": [],
   "source": [
    "t3 = t1.select(\".oddrow .text_view_data\")"
   ]
  },
  {
   "cell_type": "code",
   "execution_count": 6,
   "metadata": {},
   "outputs": [],
   "source": [
    "valueList = [val.get_text() for val in t3]"
   ]
  },
  {
   "cell_type": "code",
   "execution_count": 7,
   "metadata": {},
   "outputs": [],
   "source": [
    "def is_desc(rates_list):\n",
    "    \n",
    "    return (sorted(rates_list, reverse=True) == rates_list)"
   ]
  },
  {
   "cell_type": "code",
   "execution_count": 30,
   "metadata": {},
   "outputs": [],
   "source": [
    "import pandas as pd\n",
    "\n",
    "def avg_pct_change(rec_list):\n",
    "    x = pd.Series(rec_list)\n",
    "    \n",
    "    return x.pct_change().mean()"
   ]
  },
  {
   "cell_type": "code",
   "execution_count": 33,
   "metadata": {},
   "outputs": [],
   "source": [
    "valMap = []\n",
    "record_list = []\n",
    "\n",
    "counter = 0\n",
    "\n",
    "for x in range(len(valueList)):\n",
    "    \n",
    "    record_list.append(valueList[x])\n",
    "    counter+=1\n",
    "    \n",
    "    if (counter % 13) == 0:\n",
    "        record_list[1:13] = [float(i) for i in record_list[1:13]]\n",
    "        \n",
    "        desc_result = is_desc(record_list[1:13])\n",
    "        rates_pct_change = avg_pct_change(record_list[1:13])\n",
    "        \n",
    "        record_list.extend((desc_result, rates_pct_change))\n",
    "        valMap.append(record_list)\n",
    "        record_list = []\n",
    "\n"
   ]
  },
  {
   "cell_type": "code",
   "execution_count": 34,
   "metadata": {},
   "outputs": [
    {
     "data": {
      "text/plain": [
       "['01/04/21',\n",
       " 0.09,\n",
       " 0.09,\n",
       " 0.09,\n",
       " 0.09,\n",
       " 0.1,\n",
       " 0.11,\n",
       " 0.16,\n",
       " 0.36,\n",
       " 0.64,\n",
       " 0.93,\n",
       " 1.46,\n",
       " 1.66,\n",
       " False,\n",
       " 0.3503125561747714]"
      ]
     },
     "execution_count": 34,
     "metadata": {},
     "output_type": "execute_result"
    }
   ],
   "source": [
    "valMap[0]"
   ]
  },
  {
   "cell_type": "code",
   "execution_count": 17,
   "metadata": {},
   "outputs": [
    {
     "data": {
      "text/plain": [
       "list"
      ]
     },
     "execution_count": 17,
     "metadata": {},
     "output_type": "execute_result"
    }
   ],
   "source": [
    "type(valMap[0][1:13])"
   ]
  },
  {
   "cell_type": "code",
   "execution_count": 20,
   "metadata": {},
   "outputs": [
    {
     "data": {
      "text/plain": [
       "[0.09, 0.09, 0.09, 0.09, 0.1, 0.11, 0.16, 0.36, 0.64, 0.93, 1.46, 1.66]"
      ]
     },
     "execution_count": 20,
     "metadata": {},
     "output_type": "execute_result"
    }
   ],
   "source": [
    "[float(i) for i in valMap[0][1:13]]"
   ]
  },
  {
   "cell_type": "code",
   "execution_count": 29,
   "metadata": {},
   "outputs": [
    {
     "data": {
      "text/plain": [
       "0.3503125561747714"
      ]
     },
     "execution_count": 29,
     "metadata": {},
     "output_type": "execute_result"
    }
   ],
   "source": [
    "import pandas as pd\n",
    "\n",
    "x = pd.Series(valMap[0][1:13])\n",
    "x.pct_change().mean()"
   ]
  },
  {
   "cell_type": "code",
   "execution_count": 14,
   "metadata": {},
   "outputs": [
    {
     "data": {
      "text/plain": [
       "True"
      ]
     },
     "execution_count": 14,
     "metadata": {},
     "output_type": "execute_result"
    }
   ],
   "source": [
    "sorted(['3', '3', '1'], reverse=True) == ['3', '3', '1']\n",
    "#is_sorted(valMap[0][1:13])"
   ]
  },
  {
   "cell_type": "code",
   "execution_count": null,
   "metadata": {},
   "outputs": [],
   "source": []
  },
  {
   "cell_type": "code",
   "execution_count": null,
   "metadata": {},
   "outputs": [],
   "source": []
  }
 ],
 "metadata": {
  "kernelspec": {
   "display_name": "Python 3",
   "language": "python",
   "name": "python3"
  },
  "language_info": {
   "codemirror_mode": {
    "name": "ipython",
    "version": 3
   },
   "file_extension": ".py",
   "mimetype": "text/x-python",
   "name": "python",
   "nbconvert_exporter": "python",
   "pygments_lexer": "ipython3",
   "version": "3.6.7"
  }
 },
 "nbformat": 4,
 "nbformat_minor": 2
}
