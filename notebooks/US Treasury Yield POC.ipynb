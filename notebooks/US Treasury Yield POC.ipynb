{
 "cells": [
  {
   "cell_type": "code",
   "execution_count": 1,
   "metadata": {},
   "outputs": [],
   "source": [
    "from bs4 import BeautifulSoup\n",
    "import requests\n",
    "import re\n",
    "import datetime\n",
    "import pandas as pd"
   ]
  },
  {
   "cell_type": "code",
   "execution_count": null,
   "metadata": {},
   "outputs": [],
   "source": []
  },
  {
   "cell_type": "code",
   "execution_count": 2,
   "metadata": {},
   "outputs": [],
   "source": [
    "def get_row_values(row_data):\n",
    "    value_list = []\n",
    "    for record in row_data:\n",
    "        if '\\n\\t\\t\\tN/A\\n\\t\\t' in record.get_text():\n",
    "            value = None\n",
    "        else:\n",
    "            value = record.get_text()\n",
    "        \n",
    "        value_list.append(value)\n",
    "        \n",
    "    return value_list\n",
    "\n",
    "def fetch_treasury_yields(year):\n",
    "    if year == 'ALL':\n",
    "        treasury_url = \"https://www.treasury.gov/resource-center/data-chart-center/interest-rates/Pages/TextView.aspx?data=yieldAll\"\n",
    "    else:\n",
    "        treasury_url = \"https://www.treasury.gov/resource-center/data-chart-center/interest-rates/Pages/TextView.aspx?data=yieldYear&year=\" + \"%s\"% year\n",
    "        \n",
    "    page = requests.get(treasury_url)\n",
    "    soup = BeautifulSoup(page.content, 'html.parser')\n",
    "    \n",
    "    rates_table = soup.find(class_=\"t-chart\")\n",
    "    \n",
    "    oddrow_data = get_row_values(rates_table.select(\".oddrow .text_view_data\"))\n",
    "    evenrow_data = get_row_values(rates_table.select(\".evenrow .text_view_data\"))\n",
    "    \n",
    "    return {'oddrow': oddrow_data, 'evenrow': evenrow_data}\n",
    "    "
   ]
  },
  {
   "cell_type": "code",
   "execution_count": 3,
   "metadata": {},
   "outputs": [],
   "source": [
    "test_yields = fetch_treasury_yields(1990)"
   ]
  },
  {
   "cell_type": "code",
   "execution_count": null,
   "metadata": {},
   "outputs": [],
   "source": []
  },
  {
   "cell_type": "code",
   "execution_count": 6,
   "metadata": {},
   "outputs": [],
   "source": [
    "def is_desc(rates_list):\n",
    "    rates_list = [i for i in rates_list if i is not None]\n",
    "    return (sorted(rates_list, reverse=True) == rates_list)\n",
    "\n",
    "def avg_pct_change(rec_list):\n",
    "    rec_list = [i for i in rec_list if i is not None]\n",
    "    pct_change_list = []\n",
    "    \n",
    "    for x in range(len(rec_list)-1):\n",
    "        if rec_list[x] == 0:\n",
    "            pct_change_list.append(rec_list[x+1])\n",
    "        else:\n",
    "            pct_change_val = (rec_list[x+1] - rec_list[x])/rec_list[x]\n",
    "            pct_change_list.append(pct_change_val*100)\n",
    "\n",
    "    return round(mean(pct_change_list),2)\n",
    "\n",
    "def cvt_to_float(rec_list):\n",
    "    float_list = []\n",
    "    \n",
    "    for x in rec_list:\n",
    "        if x is None:\n",
    "            pass\n",
    "        else:\n",
    "            x = float(x)\n",
    "        \n",
    "        float_list.append(x)\n",
    "    \n",
    "    return float_list\n",
    "            \n",
    "\n",
    "def process_row_info(in_list):\n",
    "    valMap = []\n",
    "    record_list = []\n",
    "\n",
    "    counter = 0\n",
    "\n",
    "    for x in range(len(in_list)):\n",
    "\n",
    "        record_list.append(in_list[x])\n",
    "        counter+=1\n",
    "\n",
    "        if (counter % 13) == 0:\n",
    "            record_list[0] = datetime.datetime.strptime(record_list[0], \"%m/%d/%y\").strftime(\"%Y-%m-%d\")\n",
    "            record_list[1:13] = cvt_to_float(record_list[1:13])\n",
    "\n",
    "            record_list.extend((is_desc(record_list[1:13]), avg_pct_change(record_list[1:13])))\n",
    "            valMap.append(record_list)\n",
    "            record_list = []\n",
    "            \n",
    "    return valMap\n",
    "\n",
    "def combined_scrapped_yields(yield_list):\n",
    "    if len(yield_list) == 2:\n",
    "\n",
    "        combined_map = []\n",
    "\n",
    "        for key in yield_list.keys():\n",
    "            combined_map.extend(process_row_info(yield_list.get(key)))\n",
    "            \n",
    "        return combined_map"
   ]
  },
  {
   "cell_type": "code",
   "execution_count": null,
   "metadata": {},
   "outputs": [],
   "source": [
    "#test_rec = test_yields['oddrow'][1:13]\n",
    "test_rec = [2.06,2.01,1.98,1.88,1.72,1.47,1.38,1.35,1.42,1.47,1.77,1.95, 'NA']\n",
    "test_rec_float = cvt_to_float(test_rec)\n",
    "print(test_rec_float)\n",
    "test_rec_drop = [i for i in test_rec_float if i != 'NA']\n",
    "print(test_rec_drop)\n",
    "\n",
    "pct_change_list = []\n",
    "for x in range(len(test_rec_drop)-1):\n",
    "    if test_rec_drop[x] == 0:\n",
    "        pct_change_list.append(test_rec_drop[x+1])\n",
    "    else:\n",
    "        test_val = (test_rec_drop[x+1] - test_rec_drop[x])/test_rec_drop[x]\n",
    "        pct_change_list.append(test_val*100)\n",
    "\n",
    "print(pct_change_list)\n",
    "round(mean(pct_change_list),2)"
   ]
  },
  {
   "cell_type": "code",
   "execution_count": null,
   "metadata": {},
   "outputs": [],
   "source": []
  },
  {
   "cell_type": "code",
   "execution_count": 7,
   "metadata": {},
   "outputs": [],
   "source": [
    "from statistics import mean\n",
    "y = combined_scrapped_yields(test_yields)"
   ]
  },
  {
   "cell_type": "code",
   "execution_count": 8,
   "metadata": {},
   "outputs": [],
   "source": [
    "processed_yields = sorted(y, key=lambda x: x[0])"
   ]
  },
  {
   "cell_type": "code",
   "execution_count": 9,
   "metadata": {},
   "outputs": [
    {
     "data": {
      "text/plain": [
       "[['1990-01-02',\n",
       "  None,\n",
       "  None,\n",
       "  7.83,\n",
       "  7.89,\n",
       "  7.81,\n",
       "  7.87,\n",
       "  7.9,\n",
       "  7.87,\n",
       "  7.98,\n",
       "  7.94,\n",
       "  None,\n",
       "  8.0,\n",
       "  False,\n",
       "  0.27],\n",
       " ['1990-01-03',\n",
       "  None,\n",
       "  None,\n",
       "  7.89,\n",
       "  7.94,\n",
       "  7.85,\n",
       "  7.94,\n",
       "  7.96,\n",
       "  7.92,\n",
       "  8.04,\n",
       "  7.99,\n",
       "  None,\n",
       "  8.04,\n",
       "  False,\n",
       "  0.24]]"
      ]
     },
     "execution_count": 9,
     "metadata": {},
     "output_type": "execute_result"
    }
   ],
   "source": [
    "processed_yields[0:2]"
   ]
  },
  {
   "cell_type": "code",
   "execution_count": null,
   "metadata": {},
   "outputs": [],
   "source": []
  },
  {
   "cell_type": "code",
   "execution_count": 10,
   "metadata": {},
   "outputs": [],
   "source": [
    "import mariadb"
   ]
  },
  {
   "cell_type": "code",
   "execution_count": 11,
   "metadata": {},
   "outputs": [],
   "source": [
    "import sys\n",
    "\n",
    "# Instantiate Connection\n",
    "try:\n",
    "   conn = mariadb.connect(\n",
    "      user=\"root\",\n",
    "      password=\"root\",\n",
    "      host=\"localhost\",\n",
    "      port=3306)\n",
    "except mariadb.Error as e:\n",
    "   print(f\"Error connecting to MariaDB Platform: {e}\")\n",
    "   sys.exit(1)"
   ]
  },
  {
   "cell_type": "code",
   "execution_count": 12,
   "metadata": {},
   "outputs": [],
   "source": [
    "# Instantiate Cursor\n",
    "cur = conn.cursor(buffered=True , dictionary=True)"
   ]
  },
  {
   "cell_type": "code",
   "execution_count": 13,
   "metadata": {},
   "outputs": [
    {
     "data": {
      "text/plain": [
       "'?, ?, ?, ?, ?, ?, ?, ?, ?, ?, ?, ?, ?, ?, ?'"
      ]
     },
     "execution_count": 13,
     "metadata": {},
     "output_type": "execute_result"
    }
   ],
   "source": [
    "var_string = ', '.join('?' * len(processed_yields[0]))\n",
    "var_string"
   ]
  },
  {
   "cell_type": "code",
   "execution_count": 14,
   "metadata": {},
   "outputs": [],
   "source": [
    "for records in processed_yields:\n",
    "    query_string = 'INSERT INTO us_treasury_yield_rates.test_rates VALUES (%s);' % var_string\n",
    "    cur.execute(query_string, records)\n",
    "    conn.commit()"
   ]
  },
  {
   "cell_type": "code",
   "execution_count": null,
   "metadata": {},
   "outputs": [],
   "source": [
    "query = f\"SELECT * FROM us_treasury_yield_rates.test_rates\"\n",
    "\n",
    "cur.execute(query)\n",
    "\n",
    "rows = cur.fetchall()\n",
    "\n",
    "conn.close()\n"
   ]
  },
  {
   "cell_type": "code",
   "execution_count": null,
   "metadata": {},
   "outputs": [],
   "source": [
    "result = []\n",
    "\n",
    "for x in range(len(rows)):\n",
    "    #print('now it is: ' + str(x))\n",
    "    single_query = []\n",
    "\n",
    "    for key in rows[x].keys():\n",
    "        rec = str(rows[x].get(key))\n",
    "        single_query.append(rec)\n",
    "\n",
    "    result.append(single_query)\n",
    "            \n",
    "print(result[0:2])"
   ]
  },
  {
   "cell_type": "code",
   "execution_count": null,
   "metadata": {},
   "outputs": [],
   "source": []
  },
  {
   "cell_type": "code",
   "execution_count": null,
   "metadata": {},
   "outputs": [],
   "source": [
    "import wbgapi as wb"
   ]
  },
  {
   "cell_type": "code",
   "execution_count": null,
   "metadata": {},
   "outputs": [],
   "source": [
    "indicators = {'NY.GDP.MKTP.CD':'GDP (current US$)'}\n",
    "\n",
    "df = wb.data.DataFrame(indicators, 'USA', time=range(2000, 2020))"
   ]
  },
  {
   "cell_type": "code",
   "execution_count": null,
   "metadata": {},
   "outputs": [],
   "source": []
  },
  {
   "cell_type": "code",
   "execution_count": null,
   "metadata": {},
   "outputs": [],
   "source": [
    "year_range = \"\"\n",
    "for x in range(1990,2021):\n",
    "    year_range += (str(x) + ',')\n",
    "    \n",
    "year_range"
   ]
  },
  {
   "cell_type": "code",
   "execution_count": null,
   "metadata": {},
   "outputs": [],
   "source": [
    "bea_url = \"https://apps.bea.gov/api/data/?&UserID=<API KEY>&method=GetData&DataSetName=NIPA&TableName=T10105&SeriesCode=A191RC&LineDescription=Gross+domestic+product&Frequency=Q&Year=\" + year_range + \"&ResultFormat=json\"\n",
    "# data in millions\n",
    "\n",
    "page2 = requests.get(bea_url)\n"
   ]
  },
  {
   "cell_type": "code",
   "execution_count": null,
   "metadata": {},
   "outputs": [],
   "source": [
    "import json\n",
    "from urllib.request import urlopen\n",
    "response = urlopen(bea_url)\n",
    "data_json = json.loads(response.read())"
   ]
  },
  {
   "cell_type": "code",
   "execution_count": null,
   "metadata": {},
   "outputs": [],
   "source": [
    "import locale\n",
    "locale.setlocale( locale.LC_ALL, 'en_US.UTF-8' ) \n",
    "\n",
    "raw_q_gdp = []\n",
    "\n",
    "for x in data_json['BEAAPI']['Results']['Data']:\n",
    "    \n",
    "    if 'Gross domestic product' in x.values():\n",
    "        y_gdp = []\n",
    "        y_gdp.append(x['TimePeriod'])\n",
    "        y_gdp.append(locale.atoi(x['DataValue']))\n",
    "        #y_gdp.append(locale.atof(x['DataValue']))\n",
    "        raw_q_gdp.append(y_gdp)"
   ]
  },
  {
   "cell_type": "code",
   "execution_count": null,
   "metadata": {},
   "outputs": [],
   "source": [
    "raw_q_gdp"
   ]
  },
  {
   "cell_type": "code",
   "execution_count": null,
   "metadata": {},
   "outputs": [],
   "source": [
    "def assign_dates(qlist):\n",
    "    vals = { 'Q1' : '03-30'  ,  'Q2' : '06-30'  ,  'Q3' : '09-30', 'Q4' : '12-30' }\n",
    "    \n",
    "    for x in range(len(qlist)):\n",
    "        cal_date = qlist[x][0][0:4] + \"-\" + vals[qlist[x][0][-2:]]\n",
    "        qlist[x].extend([cal_date])\n",
    "    \n",
    "    return qlist"
   ]
  },
  {
   "cell_type": "code",
   "execution_count": null,
   "metadata": {},
   "outputs": [],
   "source": [
    "assign_dates(raw_q_gdp)"
   ]
  },
  {
   "cell_type": "code",
   "execution_count": null,
   "metadata": {},
   "outputs": [],
   "source": [
    "def mil_to_tril(qlist):\n",
    "    \n",
    "    for x in range(len(qlist)):\n",
    "        qlist[x].extend([round(qlist[x][1] / (10**6),2)])\n",
    "    \n",
    "    return qlist"
   ]
  },
  {
   "cell_type": "code",
   "execution_count": null,
   "metadata": {},
   "outputs": [],
   "source": [
    "mil_to_tril(raw_q_gdp)[0]"
   ]
  },
  {
   "cell_type": "code",
   "execution_count": null,
   "metadata": {},
   "outputs": [],
   "source": [
    "var_string2 = ', '.join('?' * len(raw_q_gdp[0]))\n",
    "var_string2"
   ]
  },
  {
   "cell_type": "code",
   "execution_count": null,
   "metadata": {},
   "outputs": [],
   "source": [
    "for records in raw_q_gdp:\n",
    "    query_string = 'INSERT INTO us_treasury_yield_rates.test_gdp VALUES (%s);' % var_string2\n",
    "    cur.execute(query_string, records)\n",
    "    conn.commit()"
   ]
  },
  {
   "cell_type": "code",
   "execution_count": null,
   "metadata": {},
   "outputs": [],
   "source": []
  },
  {
   "cell_type": "code",
   "execution_count": null,
   "metadata": {},
   "outputs": [],
   "source": []
  },
  {
   "cell_type": "code",
   "execution_count": null,
   "metadata": {},
   "outputs": [],
   "source": []
  }
 ],
 "metadata": {
  "kernelspec": {
   "display_name": "Python 3",
   "language": "python",
   "name": "python3"
  },
  "language_info": {
   "codemirror_mode": {
    "name": "ipython",
    "version": 3
   },
   "file_extension": ".py",
   "mimetype": "text/x-python",
   "name": "python",
   "nbconvert_exporter": "python",
   "pygments_lexer": "ipython3",
   "version": "3.6.7"
  }
 },
 "nbformat": 4,
 "nbformat_minor": 2
}
