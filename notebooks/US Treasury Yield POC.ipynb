{
 "cells": [
  {
   "cell_type": "code",
   "execution_count": 1,
   "metadata": {},
   "outputs": [],
   "source": [
    "from bs4 import BeautifulSoup\n",
    "import requests\n",
    "import re\n",
    "import datetime\n",
    "import pandas as pd"
   ]
  },
  {
   "cell_type": "code",
   "execution_count": null,
   "metadata": {},
   "outputs": [],
   "source": []
  },
  {
   "cell_type": "code",
   "execution_count": 2,
   "metadata": {},
   "outputs": [],
   "source": [
    "def get_row_values(row_data):\n",
    "    return [val.get_text() for val in row_data]"
   ]
  },
  {
   "cell_type": "code",
   "execution_count": 3,
   "metadata": {},
   "outputs": [],
   "source": [
    "def fetch_treasury_yields(year):\n",
    "    if year == 'ALL':\n",
    "        treasury_url = \"https://www.treasury.gov/resource-center/data-chart-center/interest-rates/Pages/TextView.aspx?data=yieldAll\"\n",
    "    else:\n",
    "        treasury_url = \"https://www.treasury.gov/resource-center/data-chart-center/interest-rates/Pages/TextView.aspx?data=yieldYear&year=\" + \"%s\"% year\n",
    "        \n",
    "    page = requests.get(treasury_url)\n",
    "    soup = BeautifulSoup(page.content, 'html.parser')\n",
    "    \n",
    "    rates_table = soup.find(class_=\"t-chart\")\n",
    "    \n",
    "    oddrow_data = get_row_values(rates_table.select(\".oddrow .text_view_data\"))\n",
    "    evenrow_data = get_row_values(rates_table.select(\".evenrow .text_view_data\"))\n",
    "    \n",
    "    return {'oddrow': oddrow_data, 'evenrow': evenrow_data}\n",
    "    \n",
    "    "
   ]
  },
  {
   "cell_type": "code",
   "execution_count": 4,
   "metadata": {},
   "outputs": [],
   "source": [
    "test_yields = fetch_treasury_yields(2021)"
   ]
  },
  {
   "cell_type": "code",
   "execution_count": null,
   "metadata": {},
   "outputs": [],
   "source": []
  },
  {
   "cell_type": "code",
   "execution_count": 6,
   "metadata": {},
   "outputs": [],
   "source": [
    "def is_desc(rates_list):\n",
    "    \n",
    "    return (sorted(rates_list, reverse=True) == rates_list)"
   ]
  },
  {
   "cell_type": "code",
   "execution_count": 7,
   "metadata": {},
   "outputs": [],
   "source": [
    "def avg_pct_change(rec_list):\n",
    "    x = pd.Series(rec_list)\n",
    "    \n",
    "    return round(x.pct_change().mean(), 2)"
   ]
  },
  {
   "cell_type": "code",
   "execution_count": 8,
   "metadata": {},
   "outputs": [],
   "source": [
    "def process_row_info(in_list):\n",
    "    valMap = []\n",
    "    record_list = []\n",
    "\n",
    "    counter = 0\n",
    "\n",
    "    for x in range(len(in_list)):\n",
    "\n",
    "        record_list.append(in_list[x])\n",
    "        counter+=1\n",
    "\n",
    "        if (counter % 13) == 0:\n",
    "            record_list[0] = datetime.datetime.strptime(record_list[0], \"%m/%d/%y\").strftime(\"%Y-%m-%d\")\n",
    "            record_list[1:13] = [float(i) for i in record_list[1:13]]\n",
    "\n",
    "            record_list.extend((is_desc(record_list[1:13]), avg_pct_change(record_list[1:13])))\n",
    "            valMap.append(record_list)\n",
    "            record_list = []\n",
    "            \n",
    "    return valMap\n"
   ]
  },
  {
   "cell_type": "code",
   "execution_count": 9,
   "metadata": {},
   "outputs": [],
   "source": [
    "def combined_scrapped_yields(yield_list):\n",
    "    if len(yield_list) == 2:\n",
    "\n",
    "        combined_map = []\n",
    "\n",
    "        for key in yield_list.keys():\n",
    "            combined_map.extend(process_row_info(yield_list.get(key)))\n",
    "            \n",
    "        return combined_map"
   ]
  },
  {
   "cell_type": "code",
   "execution_count": 17,
   "metadata": {},
   "outputs": [],
   "source": [
    "y = combined_scrapped_yields(test_yields)"
   ]
  },
  {
   "cell_type": "code",
   "execution_count": 18,
   "metadata": {},
   "outputs": [],
   "source": [
    "processed_yields = sorted(y, key=lambda x: x[0])"
   ]
  },
  {
   "cell_type": "code",
   "execution_count": null,
   "metadata": {},
   "outputs": [],
   "source": []
  },
  {
   "cell_type": "code",
   "execution_count": 50,
   "metadata": {},
   "outputs": [],
   "source": [
    "import mariadb"
   ]
  },
  {
   "cell_type": "code",
   "execution_count": 191,
   "metadata": {},
   "outputs": [],
   "source": [
    "import sys\n",
    "\n",
    "# Instantiate Connection\n",
    "try:\n",
    "   conn = mariadb.connect(\n",
    "      user=\"root\",\n",
    "      password=\"root\",\n",
    "      host=\"localhost\",\n",
    "      port=3306)\n",
    "except mariadb.Error as e:\n",
    "   print(f\"Error connecting to MariaDB Platform: {e}\")\n",
    "   sys.exit(1)"
   ]
  },
  {
   "cell_type": "code",
   "execution_count": 192,
   "metadata": {},
   "outputs": [],
   "source": [
    "# Instantiate Cursor\n",
    "cur = conn.cursor(buffered=True , dictionary=True)"
   ]
  },
  {
   "cell_type": "code",
   "execution_count": 193,
   "metadata": {},
   "outputs": [],
   "source": [
    "query = f\"SELECT * FROM us_treasury_yield_rates.test_rates\"\n",
    "\n",
    "query_out = []\n",
    "\n",
    "cur.execute(query)\n",
    "\n",
    "rows = cur.fetchall()\n",
    "conn.close()\n"
   ]
  },
  {
   "cell_type": "code",
   "execution_count": 196,
   "metadata": {},
   "outputs": [
    {
     "data": {
      "text/plain": [
       "'2021-01-04'"
      ]
     },
     "execution_count": 196,
     "metadata": {},
     "output_type": "execute_result"
    }
   ],
   "source": [
    "x = str(rows[0]['date'])\n",
    "x"
   ]
  },
  {
   "cell_type": "code",
   "execution_count": null,
   "metadata": {},
   "outputs": [],
   "source": []
  },
  {
   "cell_type": "code",
   "execution_count": 199,
   "metadata": {},
   "outputs": [],
   "source": [
    "for key in rows[0].keys():\n",
    "    rec = str(rows[0].get(key))\n",
    "    query_out.append(rec)"
   ]
  },
  {
   "cell_type": "code",
   "execution_count": 200,
   "metadata": {},
   "outputs": [
    {
     "data": {
      "text/plain": [
       "['2021-01-04',\n",
       " '0.09',\n",
       " '0.09',\n",
       " '0.09',\n",
       " '0.09',\n",
       " '0.10',\n",
       " '0.11',\n",
       " '0.16',\n",
       " '0.36',\n",
       " '0.64',\n",
       " '0.93',\n",
       " '1.46',\n",
       " '1.66',\n",
       " '0',\n",
       " '0.35']"
      ]
     },
     "execution_count": 200,
     "metadata": {},
     "output_type": "execute_result"
    }
   ],
   "source": [
    "query_out"
   ]
  },
  {
   "cell_type": "code",
   "execution_count": null,
   "metadata": {},
   "outputs": [],
   "source": [
    "  \n",
    "for (date, '1_Mo') in cur:\n",
    "      query_out.append(f\"{date} {'1_Mo'} \")\n",
    "        \n",
    "print(\"\\n\".join(contacts))"
   ]
  }
 ],
 "metadata": {
  "kernelspec": {
   "display_name": "Python 3",
   "language": "python",
   "name": "python3"
  },
  "language_info": {
   "codemirror_mode": {
    "name": "ipython",
    "version": 3
   },
   "file_extension": ".py",
   "mimetype": "text/x-python",
   "name": "python",
   "nbconvert_exporter": "python",
   "pygments_lexer": "ipython3",
   "version": "3.6.7"
  }
 },
 "nbformat": 4,
 "nbformat_minor": 2
}
