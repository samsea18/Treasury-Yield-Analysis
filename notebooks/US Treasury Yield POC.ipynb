{
 "cells": [
  {
   "cell_type": "code",
   "execution_count": null,
   "metadata": {},
   "outputs": [],
   "source": [
    "from bs4 import BeautifulSoup\n",
    "import requests\n",
    "import re\n",
    "import datetime\n",
    "import pandas as pd"
   ]
  },
  {
   "cell_type": "code",
   "execution_count": null,
   "metadata": {},
   "outputs": [],
   "source": []
  },
  {
   "cell_type": "code",
   "execution_count": null,
   "metadata": {},
   "outputs": [],
   "source": [
    "def get_row_values(row_data):\n",
    "    value_list = []\n",
    "    for record in row_data:\n",
    "        if '\\n\\t\\t\\tN/A\\n\\t\\t' in record.get_text():\n",
    "            value = None\n",
    "        else:\n",
    "            value = record.get_text()\n",
    "        \n",
    "        value_list.append(value)\n",
    "        \n",
    "    return value_list\n",
    "\n",
    "def fetch_treasury_yields(year):\n",
    "    if year == 'ALL':\n",
    "        treasury_url = \"https://www.treasury.gov/resource-center/data-chart-center/interest-rates/Pages/TextView.aspx?data=yieldAll\"\n",
    "    else:\n",
    "        treasury_url = \"https://www.treasury.gov/resource-center/data-chart-center/interest-rates/Pages/TextView.aspx?data=yieldYear&year=\" + \"%s\"% year\n",
    "        \n",
    "    page = requests.get(treasury_url)\n",
    "    soup = BeautifulSoup(page.content, 'html.parser')\n",
    "    \n",
    "    rates_table = soup.find(class_=\"t-chart\")\n",
    "    \n",
    "    oddrow_data = get_row_values(rates_table.select(\".oddrow .text_view_data\"))\n",
    "    evenrow_data = get_row_values(rates_table.select(\".evenrow .text_view_data\"))\n",
    "    \n",
    "    return {'oddrow': oddrow_data, 'evenrow': evenrow_data}\n",
    "    "
   ]
  },
  {
   "cell_type": "code",
   "execution_count": null,
   "metadata": {},
   "outputs": [],
   "source": [
    "test_yields = fetch_treasury_yields(2017)"
   ]
  },
  {
   "cell_type": "code",
   "execution_count": null,
   "metadata": {},
   "outputs": [],
   "source": []
  },
  {
   "cell_type": "code",
   "execution_count": null,
   "metadata": {},
   "outputs": [],
   "source": []
  },
  {
   "cell_type": "code",
   "execution_count": null,
   "metadata": {},
   "outputs": [],
   "source": [
    "def is_desc(rates_list):\n",
    "    rates_list = [i for i in rates_list if i is not None]\n",
    "    return (sorted(rates_list, reverse=True) == rates_list)\n",
    "\n",
    "def avg_pct_change(rec_list):\n",
    "    rec_list = [i for i in rec_list if i is not None]\n",
    "    pct_change_list = []\n",
    "\n",
    "    if len(rec_list) == 0:\n",
    "        return 0\n",
    "\n",
    "    elif len(rec_list) > 0:\n",
    "        for x in range(len(rec_list) - 1):\n",
    "            if rec_list[x] == 0:\n",
    "                pct_change_list.append(rec_list[x + 1])\n",
    "            else:\n",
    "                pct_change_val = (rec_list[x + 1] - rec_list[x]) / rec_list[x]\n",
    "                pct_change_list.append(pct_change_val * 100)\n",
    "\n",
    "        return round(mean(pct_change_list), 2)\n",
    "\n",
    "def cvt_to_float(rec_list):\n",
    "    float_list = []\n",
    "    \n",
    "    for x in rec_list:\n",
    "        if x is None:\n",
    "            pass\n",
    "        else:\n",
    "            x = float(x)\n",
    "        \n",
    "        float_list.append(x)\n",
    "    \n",
    "    return float_list\n",
    "            \n",
    "\n",
    "def process_row_info(in_list):\n",
    "    valMap = []\n",
    "    record_list = []\n",
    "\n",
    "    counter = 0\n",
    "\n",
    "    for x in range(len(in_list)):\n",
    "\n",
    "        record_list.append(in_list[x])\n",
    "        counter+=1\n",
    "\n",
    "        if (counter % 13) == 0:\n",
    "            record_list[0] = datetime.datetime.strptime(record_list[0], \"%m/%d/%y\").strftime(\"%Y-%m-%d\")\n",
    "            record_list[1:13] = cvt_to_float(record_list[1:13])\n",
    "\n",
    "            record_list.extend((is_desc(record_list[1:13]), avg_pct_change(record_list[1:13])))\n",
    "            valMap.append(record_list)\n",
    "            record_list = []\n",
    "            \n",
    "    return valMap\n",
    "\n",
    "def combined_scrapped_yields(yield_list):\n",
    "    if len(yield_list) == 2:\n",
    "\n",
    "        combined_map = []\n",
    "\n",
    "        for key in yield_list.keys():\n",
    "            combined_map.extend(process_row_info(yield_list.get(key)))\n",
    "            \n",
    "        return combined_map"
   ]
  },
  {
   "cell_type": "code",
   "execution_count": null,
   "metadata": {},
   "outputs": [],
   "source": []
  },
  {
   "cell_type": "code",
   "execution_count": null,
   "metadata": {},
   "outputs": [],
   "source": [
    "from statistics import mean\n",
    "y = combined_scrapped_yields(test_yields)"
   ]
  },
  {
   "cell_type": "code",
   "execution_count": null,
   "metadata": {},
   "outputs": [],
   "source": [
    "processed_yields = sorted(y, key=lambda x: x[0])"
   ]
  },
  {
   "cell_type": "code",
   "execution_count": null,
   "metadata": {},
   "outputs": [],
   "source": [
    "processed_yields[0:2]"
   ]
  },
  {
   "cell_type": "code",
   "execution_count": null,
   "metadata": {},
   "outputs": [],
   "source": []
  },
  {
   "cell_type": "code",
   "execution_count": null,
   "metadata": {},
   "outputs": [],
   "source": [
    "import mariadb"
   ]
  },
  {
   "cell_type": "code",
   "execution_count": null,
   "metadata": {},
   "outputs": [],
   "source": [
    "import sys\n",
    "\n",
    "# Instantiate Connection\n",
    "try:\n",
    "   conn = mariadb.connect(\n",
    "      user=\"root\",\n",
    "      password=\"root\",\n",
    "      host=\"localhost\",\n",
    "       db='us_treasury_yield_rates',\n",
    "      port=3306)\n",
    "except mariadb.Error as e:\n",
    "   print(f\"Error connecting to MariaDB Platform: {e}\")\n",
    "   sys.exit(1)"
   ]
  },
  {
   "cell_type": "code",
   "execution_count": null,
   "metadata": {},
   "outputs": [],
   "source": [
    "# Instantiate Cursor\n",
    "cur = conn.cursor(buffered=True , dictionary=True)"
   ]
  },
  {
   "cell_type": "code",
   "execution_count": null,
   "metadata": {},
   "outputs": [],
   "source": [
    "var_string = ', '.join('?' * len(processed_yields[0]))\n",
    "var_string"
   ]
  },
  {
   "cell_type": "code",
   "execution_count": null,
   "metadata": {},
   "outputs": [],
   "source": [
    "for records in processed_yields:\n",
    "    query_string = 'INSERT INTO us_treasury_yield_rates.test_rates VALUES (%s);' % var_string\n",
    "    cur.execute(query_string, records)\n",
    "    conn.commit()"
   ]
  },
  {
   "cell_type": "code",
   "execution_count": null,
   "metadata": {},
   "outputs": [],
   "source": [
    "query = f\"SELECT * FROM us_treasury_yield_rates.test_rates\"\n",
    "\n",
    "cur.execute(query)\n",
    "\n",
    "rows = cur.fetchall()\n",
    "\n",
    "conn.close()\n"
   ]
  },
  {
   "cell_type": "code",
   "execution_count": null,
   "metadata": {},
   "outputs": [],
   "source": [
    "result = []\n",
    "\n",
    "for x in range(len(rows)):\n",
    "    #print('now it is: ' + str(x))\n",
    "    single_query = []\n",
    "\n",
    "    for key in rows[x].keys():\n",
    "        rec = str(rows[x].get(key))\n",
    "        single_query.append(rec)\n",
    "\n",
    "    result.append(single_query)\n",
    "            \n",
    "print(result[0:2])"
   ]
  },
  {
   "cell_type": "code",
   "execution_count": null,
   "metadata": {},
   "outputs": [],
   "source": []
  },
  {
   "cell_type": "code",
   "execution_count": null,
   "metadata": {},
   "outputs": [],
   "source": [
    "import wbgapi as wb"
   ]
  },
  {
   "cell_type": "code",
   "execution_count": null,
   "metadata": {},
   "outputs": [],
   "source": [
    "indicators = {'NY.GDP.MKTP.CD':'GDP (current US$)'}\n",
    "\n",
    "df = wb.data.DataFrame(indicators, 'USA', time=range(2000, 2020))"
   ]
  },
  {
   "cell_type": "code",
   "execution_count": null,
   "metadata": {},
   "outputs": [],
   "source": []
  },
  {
   "cell_type": "code",
   "execution_count": null,
   "metadata": {},
   "outputs": [],
   "source": [
    "year_range = \"\"\n",
    "for x in range(1990,2021):\n",
    "    year_range += (str(x) + ',')\n",
    "    \n",
    "year_range"
   ]
  },
  {
   "cell_type": "code",
   "execution_count": null,
   "metadata": {},
   "outputs": [],
   "source": [
    "bea_url = \"https://apps.bea.gov/api/data/?&UserID=<API KEY>&method=GetData&DataSetName=NIPA&TableName=T10105&SeriesCode=A191RC&LineDescription=Gross+domestic+product&Frequency=Q&Year=\" + year_range + \"&ResultFormat=json\"\n",
    "# data in millions\n",
    "\n",
    "page2 = requests.get(bea_url)\n"
   ]
  },
  {
   "cell_type": "code",
   "execution_count": null,
   "metadata": {},
   "outputs": [],
   "source": [
    "import json\n",
    "from urllib.request import urlopen\n",
    "response = urlopen(bea_url)\n",
    "data_json = json.loads(response.read())"
   ]
  },
  {
   "cell_type": "code",
   "execution_count": null,
   "metadata": {},
   "outputs": [],
   "source": [
    "import locale\n",
    "locale.setlocale( locale.LC_ALL, 'en_US.UTF-8' ) \n",
    "\n",
    "raw_q_gdp = []\n",
    "\n",
    "for x in data_json['BEAAPI']['Results']['Data']:\n",
    "    \n",
    "    if 'Gross domestic product' in x.values():\n",
    "        y_gdp = []\n",
    "        y_gdp.append(x['TimePeriod'])\n",
    "        y_gdp.append(locale.atoi(x['DataValue']))\n",
    "        #y_gdp.append(locale.atof(x['DataValue']))\n",
    "        raw_q_gdp.append(y_gdp)"
   ]
  },
  {
   "cell_type": "code",
   "execution_count": null,
   "metadata": {},
   "outputs": [],
   "source": [
    "raw_q_gdp"
   ]
  },
  {
   "cell_type": "code",
   "execution_count": null,
   "metadata": {},
   "outputs": [],
   "source": [
    "def assign_dates(qlist):\n",
    "    vals = { 'Q1' : '03-30'  ,  'Q2' : '06-30'  ,  'Q3' : '09-30', 'Q4' : '12-30' }\n",
    "    \n",
    "    for x in range(len(qlist)):\n",
    "        cal_date = qlist[x][0][0:4] + \"-\" + vals[qlist[x][0][-2:]]\n",
    "        qlist[x].extend([cal_date])\n",
    "    \n",
    "    return qlist"
   ]
  },
  {
   "cell_type": "code",
   "execution_count": null,
   "metadata": {},
   "outputs": [],
   "source": [
    "assign_dates(raw_q_gdp)"
   ]
  },
  {
   "cell_type": "code",
   "execution_count": null,
   "metadata": {},
   "outputs": [],
   "source": [
    "def mil_to_tril(qlist):\n",
    "    \n",
    "    for x in range(len(qlist)):\n",
    "        qlist[x].extend([round(qlist[x][1] / (10**6),2)])\n",
    "    \n",
    "    return qlist"
   ]
  },
  {
   "cell_type": "code",
   "execution_count": null,
   "metadata": {},
   "outputs": [],
   "source": [
    "mil_to_tril(raw_q_gdp)[0]"
   ]
  },
  {
   "cell_type": "code",
   "execution_count": null,
   "metadata": {},
   "outputs": [],
   "source": [
    "var_string2 = ', '.join('?' * len(raw_q_gdp[0]))\n",
    "var_string2"
   ]
  },
  {
   "cell_type": "code",
   "execution_count": null,
   "metadata": {},
   "outputs": [],
   "source": [
    "for records in raw_q_gdp:\n",
    "    query_string = 'INSERT INTO us_treasury_yield_rates.test_gdp VALUES (%s);' % var_string2\n",
    "    cur.execute(query_string, records)\n",
    "    conn.commit()"
   ]
  },
  {
   "cell_type": "code",
   "execution_count": null,
   "metadata": {},
   "outputs": [],
   "source": []
  },
  {
   "cell_type": "code",
   "execution_count": null,
   "metadata": {},
   "outputs": [],
   "source": [
    "my_str =  \"abcdefghij\"\n",
    "my_str = my_str[:-1]"
   ]
  },
  {
   "cell_type": "code",
   "execution_count": null,
   "metadata": {},
   "outputs": [],
   "source": [
    "year_range[:-1]"
   ]
  },
  {
   "cell_type": "code",
   "execution_count": null,
   "metadata": {},
   "outputs": [],
   "source": []
  },
  {
   "cell_type": "code",
   "execution_count": 5,
   "metadata": {},
   "outputs": [],
   "source": [
    "import yfinance as yf\n",
    "\n",
    "sp500 = yf.Ticker(\"^GSPC\")"
   ]
  },
  {
   "cell_type": "code",
   "execution_count": null,
   "metadata": {},
   "outputs": [],
   "source": []
  },
  {
   "cell_type": "code",
   "execution_count": 1,
   "metadata": {},
   "outputs": [
    {
     "name": "stdout",
     "output_type": "stream",
     "text": [
      "[*********************100%***********************]  1 of 1 completed\n"
     ]
    }
   ],
   "source": [
    "import yfinance as yf\n",
    "data = yf.download(\"^GSPC\", start=\"2021-01-01\", end=\"2021-07-02\")"
   ]
  },
  {
   "cell_type": "code",
   "execution_count": 10,
   "metadata": {},
   "outputs": [],
   "source": [
    "col_list = ['Open', 'Close']\n",
    "new_list = data[col_list]"
   ]
  },
  {
   "cell_type": "code",
   "execution_count": null,
   "metadata": {},
   "outputs": [],
   "source": []
  },
  {
   "cell_type": "code",
   "execution_count": 11,
   "metadata": {},
   "outputs": [],
   "source": [
    "new_list.reset_index(level=0, inplace=True)"
   ]
  },
  {
   "cell_type": "code",
   "execution_count": 12,
   "metadata": {},
   "outputs": [
    {
     "data": {
      "text/html": [
       "<div>\n",
       "<style scoped>\n",
       "    .dataframe tbody tr th:only-of-type {\n",
       "        vertical-align: middle;\n",
       "    }\n",
       "\n",
       "    .dataframe tbody tr th {\n",
       "        vertical-align: top;\n",
       "    }\n",
       "\n",
       "    .dataframe thead th {\n",
       "        text-align: right;\n",
       "    }\n",
       "</style>\n",
       "<table border=\"1\" class=\"dataframe\">\n",
       "  <thead>\n",
       "    <tr style=\"text-align: right;\">\n",
       "      <th></th>\n",
       "      <th>Date</th>\n",
       "      <th>Open</th>\n",
       "      <th>Close</th>\n",
       "    </tr>\n",
       "  </thead>\n",
       "  <tbody>\n",
       "    <tr>\n",
       "      <th>0</th>\n",
       "      <td>2020-12-31</td>\n",
       "      <td>3733.270020</td>\n",
       "      <td>3756.070068</td>\n",
       "    </tr>\n",
       "    <tr>\n",
       "      <th>1</th>\n",
       "      <td>2021-01-04</td>\n",
       "      <td>3764.610107</td>\n",
       "      <td>3700.649902</td>\n",
       "    </tr>\n",
       "    <tr>\n",
       "      <th>2</th>\n",
       "      <td>2021-01-05</td>\n",
       "      <td>3698.020020</td>\n",
       "      <td>3726.860107</td>\n",
       "    </tr>\n",
       "    <tr>\n",
       "      <th>3</th>\n",
       "      <td>2021-01-06</td>\n",
       "      <td>3712.199951</td>\n",
       "      <td>3748.139893</td>\n",
       "    </tr>\n",
       "    <tr>\n",
       "      <th>4</th>\n",
       "      <td>2021-01-07</td>\n",
       "      <td>3764.709961</td>\n",
       "      <td>3803.790039</td>\n",
       "    </tr>\n",
       "    <tr>\n",
       "      <th>...</th>\n",
       "      <td>...</td>\n",
       "      <td>...</td>\n",
       "      <td>...</td>\n",
       "    </tr>\n",
       "    <tr>\n",
       "      <th>121</th>\n",
       "      <td>2021-06-25</td>\n",
       "      <td>4274.450195</td>\n",
       "      <td>4280.700195</td>\n",
       "    </tr>\n",
       "    <tr>\n",
       "      <th>122</th>\n",
       "      <td>2021-06-28</td>\n",
       "      <td>4284.899902</td>\n",
       "      <td>4290.609863</td>\n",
       "    </tr>\n",
       "    <tr>\n",
       "      <th>123</th>\n",
       "      <td>2021-06-29</td>\n",
       "      <td>4293.209961</td>\n",
       "      <td>4291.799805</td>\n",
       "    </tr>\n",
       "    <tr>\n",
       "      <th>124</th>\n",
       "      <td>2021-06-30</td>\n",
       "      <td>4290.649902</td>\n",
       "      <td>4297.500000</td>\n",
       "    </tr>\n",
       "    <tr>\n",
       "      <th>125</th>\n",
       "      <td>2021-07-01</td>\n",
       "      <td>4300.729980</td>\n",
       "      <td>4319.939941</td>\n",
       "    </tr>\n",
       "  </tbody>\n",
       "</table>\n",
       "<p>126 rows × 3 columns</p>\n",
       "</div>"
      ],
      "text/plain": [
       "          Date         Open        Close\n",
       "0   2020-12-31  3733.270020  3756.070068\n",
       "1   2021-01-04  3764.610107  3700.649902\n",
       "2   2021-01-05  3698.020020  3726.860107\n",
       "3   2021-01-06  3712.199951  3748.139893\n",
       "4   2021-01-07  3764.709961  3803.790039\n",
       "..         ...          ...          ...\n",
       "121 2021-06-25  4274.450195  4280.700195\n",
       "122 2021-06-28  4284.899902  4290.609863\n",
       "123 2021-06-29  4293.209961  4291.799805\n",
       "124 2021-06-30  4290.649902  4297.500000\n",
       "125 2021-07-01  4300.729980  4319.939941\n",
       "\n",
       "[126 rows x 3 columns]"
      ]
     },
     "execution_count": 12,
     "metadata": {},
     "output_type": "execute_result"
    }
   ],
   "source": [
    "new_list"
   ]
  },
  {
   "cell_type": "code",
   "execution_count": null,
   "metadata": {},
   "outputs": [],
   "source": [
    "new_list['Date'] = [str(item)[0:10] for item in new_list['Date']]\n",
    "new_list['Open'] = [round(item,2) for item in new_list['Open']]\n",
    "new_list['Close'] = [round(item,2) for item in new_list['Close']]\n",
    "new_list['Ticker'] = 'S&P 500'\n",
    "new_list['Type'] = 'Index'\n"
   ]
  },
  {
   "cell_type": "code",
   "execution_count": null,
   "metadata": {},
   "outputs": [],
   "source": [
    "new_list"
   ]
  },
  {
   "cell_type": "code",
   "execution_count": null,
   "metadata": {},
   "outputs": [],
   "source": [
    "sp_list = new_list.values.tolist()"
   ]
  },
  {
   "cell_type": "code",
   "execution_count": null,
   "metadata": {},
   "outputs": [],
   "source": [
    "sp_list[0]"
   ]
  },
  {
   "cell_type": "code",
   "execution_count": null,
   "metadata": {},
   "outputs": [],
   "source": [
    "var_string3 = ', '.join('?' * len(sp_list[0]))\n",
    "var_string3\n",
    "\n",
    "for records in sp_list:\n",
    "    query_string = 'INSERT INTO us_treasury_yield_rates.us_stock_market VALUES (%s);' % var_string3\n",
    "    cur.execute(query_string, records)\n",
    "    conn.commit()\n"
   ]
  },
  {
   "cell_type": "code",
   "execution_count": null,
   "metadata": {},
   "outputs": [],
   "source": []
  }
 ],
 "metadata": {
  "kernelspec": {
   "display_name": "Python 3",
   "language": "python",
   "name": "python3"
  },
  "language_info": {
   "codemirror_mode": {
    "name": "ipython",
    "version": 3
   },
   "file_extension": ".py",
   "mimetype": "text/x-python",
   "name": "python",
   "nbconvert_exporter": "python",
   "pygments_lexer": "ipython3",
   "version": "3.6.7"
  }
 },
 "nbformat": 4,
 "nbformat_minor": 2
}
